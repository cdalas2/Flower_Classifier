{
 "cells": [
  {
   "cell_type": "markdown",
   "metadata": {
    "id": "n7X926d4AHNb"
   },
   "source": [
    "# **Support Vector Machines**"
   ]
  },
  {
   "cell_type": "markdown",
   "metadata": {
    "id": "7n2B8jMBB5Ll"
   },
   "source": [
    "## **Multiclass Classification using Support Vector Machine**"
   ]
  },
  {
   "cell_type": "markdown",
   "metadata": {
    "id": "HXJjTdQrDGzp"
   },
   "source": [
    "**Importing all the required libraries**"
   ]
  },
  {
   "cell_type": "code",
   "execution_count": 1,
   "metadata": {
    "id": "Pgc2MJTlCfc4"
   },
   "outputs": [],
   "source": [
    "from sklearn.metrics import confusion_matrix, ConfusionMatrixDisplay\n",
    "from sklearn.model_selection import train_test_split\n",
    "from sklearn.model_selection import cross_val_score\n",
    "from sklearn import svm, datasets\n",
    "import matplotlib.pyplot as plt\n",
    "import numpy as np\n",
    "from sklearn.metrics import accuracy_score\n",
    "from sklearn.metrics import f1_score"
   ]
  },
  {
   "cell_type": "markdown",
   "metadata": {
    "id": "qD33iCfsDaNf"
   },
   "source": [
    "**Importing Dataset**"
   ]
  },
  {
   "cell_type": "code",
   "execution_count": 2,
   "metadata": {
    "id": "lvvf4Rd_DXwv"
   },
   "outputs": [],
   "source": [
    "iris = datasets.load_iris()\n",
    "X = iris.data[:, :2]\n",
    "y = iris.target"
   ]
  },
  {
   "cell_type": "code",
   "execution_count": 3,
   "metadata": {
    "id": "ka3xnc3pBd2V"
   },
   "outputs": [],
   "source": [
    "X_train, X_test, y_train, y_test = train_test_split(X, y, test_size = 0.2, random_state = 0)"
   ]
  },
  {
   "cell_type": "markdown",
   "metadata": {
    "id": "gR46FlKBEaaZ"
   },
   "source": [
    "**Hyperparameter Tuning**\n",
    "*   For **RBF kernel**, we tune 'gamma' and 'penalty term (C)'. \n",
    "*   For **Polynomial kernel**, we tune 'degree' and 'penalty term (C)'. \n",
    "\n",
    "For the multiclass classification, the type one-versus-one will be specified, i.e. use decision_function_shape=’ovo’.\n",
    "\n",
    "All other parameters are set to default. \n",
    "\n",
    "*NOTE: We select the hyperparameters that give us highest accuracy.*"
   ]
  },
  {
   "cell_type": "code",
   "execution_count": 4,
   "metadata": {
    "colab": {
     "base_uri": "https://localhost:8080/",
     "height": 0
    },
    "id": "DRYRnnXeEPvA",
    "outputId": "0ff99a0e-86d4-4956-dc75-6e2a803825da"
   },
   "outputs": [
    {
     "name": "stdout",
     "output_type": "stream",
     "text": [
      "Best pair of hyperparameters (C, Gamma) for RBF Kernel is (0.2, 0.4)\n",
      "Best pair of hyperparameters (Degree, Gamma) for Poly Kernel is (1, 0.8)\n"
     ]
    }
   ],
   "source": [
    "from sklearn.model_selection import GridSearchCV\n",
    "from sklearn.svm import SVC\n",
    "\n",
    "# Define the parameter grid for RBF kernel\n",
    "param_grid_rbf = {\n",
    "    'C': [0.2, 0.4, 0.6, 0.8, 1.0, 1.2, 1.4],\n",
    "    'gamma': [0.4, 0.6, 0.8, 1.0, 1.2, 1.4, 1.6]\n",
    "}\n",
    "c_rbf, gamma_rbf = 0, 0\n",
    "\n",
    "### RBF Kernel\n",
    "svm_rbf = SVC(kernel='rbf', decision_function_shape='ovo')\n",
    "\n",
    "# Perform grid search for RBF kernel (perform cross-validation and gives params for best mean cross-validation accuracy score)\n",
    "grid_search_rbf = GridSearchCV(svm_rbf, param_grid_rbf, cv=5)\n",
    "grid_search_rbf.fit(X_train, y_train)\n",
    "\n",
    "# Get the best hyperparameters for RBF kernel\n",
    "# accuracy_rbf = grid_search_rbf.best_score_\n",
    "optimal_params_rbf = grid_search_rbf.best_params_\n",
    "c_rbf = optimal_params_rbf['C']\n",
    "gamma_rbf = optimal_params_rbf['gamma']\n",
    "\n",
    "print(\"Best pair of hyperparameters (C, Gamma) for RBF Kernel is (\" + str(c_rbf) + \", \" + str(gamma_rbf) + \")\")\n",
    "\n",
    "d_poly, c_poly = 0, 0\n",
    "### Polynomial Kernel\n",
    "# Define the parameter grid for polynomial kernel\n",
    "param_grid_poly = {\n",
    "    'C': [0.2, 0.4, 0.6, 0.8, 1.0, 1.2, 1.4],\n",
    "    'degree': [1, 2, 3, 4, 5]\n",
    "}\n",
    "# Create the SVM classifier with polynomial kernel\n",
    "svm_poly = SVC(kernel='poly', decision_function_shape='ovo')\n",
    "\n",
    "# Perform grid search for polynomial kernel\n",
    "grid_search_poly = GridSearchCV(svm_poly, param_grid_poly, cv=5)\n",
    "grid_search_poly.fit(X_train, y_train)\n",
    "\n",
    "# Get the best hyperparameters for polynomial kernel\n",
    "# accuracy_poly = grid_search_poly.best_score_\n",
    "optimal_params_poly = grid_search_poly.best_params_\n",
    "c_poly = optimal_params_poly['C']\n",
    "d_poly = optimal_params_poly['degree']\n",
    "\n",
    "print(\"Best pair of hyperparameters (Degree, Gamma) for Poly Kernel is (\" + str(d_poly) + \", \" + str(c_poly) + \")\")"
   ]
  },
  {
   "cell_type": "code",
   "execution_count": 5,
   "metadata": {
    "colab": {
     "base_uri": "https://localhost:8080/",
     "height": 75
    },
    "id": "GX9nRyXRB6lG",
    "outputId": "fe7be624-f9d2-411f-f5ea-f28815a871d3"
   },
   "outputs": [
    {
     "data": {
      "text/plain": [
       "SVC(C=0.8, decision_function_shape='ovo', degree=1, kernel='poly')"
      ]
     },
     "execution_count": 5,
     "metadata": {},
     "output_type": "execute_result"
    }
   ],
   "source": [
    "rbf = svm.SVC(kernel='rbf', gamma=gamma_rbf, C=c_rbf, decision_function_shape='ovo')\n",
    "poly = svm.SVC(kernel='poly', degree=d_poly, C=c_poly, decision_function_shape='ovo')\n",
    "\n",
    "rbf.fit(X_train, y_train)\n",
    "poly.fit(X_train, y_train)"
   ]
  },
  {
   "cell_type": "markdown",
   "metadata": {
    "id": "noySXLUGFhUT"
   },
   "source": [
    "**Testing the model**"
   ]
  },
  {
   "cell_type": "code",
   "execution_count": 6,
   "metadata": {
    "id": "Ll1f-gpwFNhx"
   },
   "outputs": [],
   "source": [
    "poly_pred, rbf_pred = None, None\n",
    "rbf_pred = rbf.predict(X_test)\n",
    "poly_pred = poly.predict(X_test)"
   ]
  },
  {
   "cell_type": "markdown",
   "metadata": {
    "id": "YAVVUvM8F79Q"
   },
   "source": [
    "**Models Evaluation**"
   ]
  },
  {
   "cell_type": "code",
   "execution_count": 7,
   "metadata": {
    "colab": {
     "base_uri": "https://localhost:8080/",
     "height": 0
    },
    "id": "4ZAnpEAOGM9w",
    "outputId": "5c358cc5-034f-4983-8c56-8626f80ae30b"
   },
   "outputs": [
    {
     "name": "stdout",
     "output_type": "stream",
     "text": [
      "Accuracy (RBF Kernel):  70.00\n",
      "F1 (RBF Kernel):  70.55\n"
     ]
    }
   ],
   "source": [
    "rbf_accuracy, rbf_f1 = None, None\n",
    "rbf_accuracy = accuracy_score(y_test, rbf_pred)\n",
    "rbf_f1 = f1_score(y_test, rbf_pred, average='weighted')\n",
    "\n",
    "print('Accuracy (RBF Kernel): ', \"%.2f\" % (rbf_accuracy*100))\n",
    "print('F1 (RBF Kernel): ', \"%.2f\" % (rbf_f1*100))"
   ]
  },
  {
   "cell_type": "code",
   "execution_count": 8,
   "metadata": {
    "colab": {
     "base_uri": "https://localhost:8080/",
     "height": 0
    },
    "id": "XwjDeDMwGjVU",
    "outputId": "bb80817b-5474-4462-a01d-1d70fb1b8080"
   },
   "outputs": [
    {
     "name": "stdout",
     "output_type": "stream",
     "text": [
      "Accuracy (Polynomial Kernel):  73.33\n",
      "F1 (Polynomial Kernel):  74.13\n"
     ]
    }
   ],
   "source": [
    "poly_accuracy = None\n",
    "poly_f1 = None\n",
    "poly_accuracy = accuracy_score(y_test, poly_pred)\n",
    "poly_f1 = f1_score(y_test, poly_pred, average='weighted')\n",
    "\n",
    "print('Accuracy (Polynomial Kernel): ', \"%.2f\" % (poly_accuracy*100))\n",
    "print('F1 (Polynomial Kernel): ', \"%.2f\" % (poly_f1*100))"
   ]
  },
  {
   "cell_type": "markdown",
   "metadata": {
    "id": "_Kck-9KuHHjq"
   },
   "source": [
    "**Visualising Results**"
   ]
  },
  {
   "cell_type": "code",
   "execution_count": 9,
   "metadata": {
    "colab": {
     "base_uri": "https://localhost:8080/",
     "height": 447
    },
    "id": "xLIRk_evGuEb",
    "outputId": "6aecca65-1e93-464a-84cf-60780392e112"
   },
   "outputs": [
    {
     "data": {
      "image/png": "[encoded data removed]",
      "text/plain": [
       "<Figure size 432x288 with 1 Axes>"
      ]
     },
     "metadata": {},
     "output_type": "display_data"
    },
    {
     "data": {
      "image/png": "[encoded data removed]",
      "text/plain": [
       "<Figure size 432x288 with 1 Axes>"
      ]
     },
     "metadata": {},
     "output_type": "display_data"
    }
   ],
   "source": [
    "#stepsize in the mesh, it alters the accuracy of the plotprint\n",
    "h = .01\n",
    "#create the mesh\n",
    "x_min, x_max = X[:, 0].min() - 1, X[:, 0].max() + 1\n",
    "y_min, y_max = X[:, 1].min() - 1, X[:, 1].max() + 1\n",
    "xx, yy = np.meshgrid(np.arange(x_min, x_max, h),np.arange(y_min, y_max, h))\n",
    "\n",
    "# create the title that will be shown on the plot\n",
    "titles = ['RBF kernel','Polynomial kernel']\n",
    "\n",
    "for i, clf in enumerate((rbf, poly)):\n",
    "    #defines how many plots: 2 rows, 2columns=> leading to 4 plots\n",
    "    plt.subplot(2, 2, i + 1) #i+1 is the index\n",
    "    #space between plots\n",
    "    plt.subplots_adjust(wspace=0.4, hspace=0.4) \n",
    "    Z = clf.predict(np.c_[xx.ravel(), yy.ravel()])\n",
    "    # Put the result into a color plot\n",
    "    Z = Z.reshape(xx.shape)\n",
    "    plt.contourf(xx, yy, Z, cmap=plt.cm.PuBuGn, alpha=0.7)\n",
    "    # Plot also the training points\n",
    "    plt.scatter(X[:, 0], X[:, 1], c=y, cmap=plt.cm.PuBuGn,     edgecolors='grey')\n",
    "    plt.xlabel('Sepal length')\n",
    "    plt.ylabel('Sepal width')\n",
    "    plt.xlim(xx.min(), xx.max())\n",
    "    plt.ylim(yy.min(), yy.max())\n",
    "    plt.xticks(())\n",
    "    plt.yticks(())\n",
    "    plt.title(titles[i])\n",
    "    plt.show()"
   ]
  },
  {
   "cell_type": "code",
   "execution_count": 10,
   "metadata": {
    "colab": {
     "base_uri": "https://localhost:8080/",
     "height": 449
    },
    "id": "6lR0qKNAH8v6",
    "outputId": "a0190d3d-fadf-433d-ede3-1f2be396d28d"
   },
   "outputs": [
    {
     "data": {
      "image/png": "[encoded data removed]",
      "text/plain": [
       "<Figure size 432x288 with 2 Axes>"
      ]
     },
     "metadata": {
      "needs_background": "light"
     },
     "output_type": "display_data"
    }
   ],
   "source": [
    "# creating a confusion matrix: polynomial kernel\n",
    "# Define class labels\n",
    "class_names = iris.target_names\n",
    "cm_poly = confusion_matrix(y_test, poly_pred)\n",
    "disp_poly = ConfusionMatrixDisplay(confusion_matrix=cm_poly,display_labels=class_names)\n",
    "# Plot confusion matrix\n",
    "disp_poly.plot()\n",
    "\n",
    "# Show the plot\n",
    "plt.show()"
   ]
  },
  {
   "cell_type": "code",
   "execution_count": 11,
   "metadata": {
    "colab": {
     "base_uri": "https://localhost:8080/",
     "height": 449
    },
    "id": "Gez_1vpDILLO",
    "outputId": "4ed968a4-9046-4bcc-90eb-735239ce17c4"
   },
   "outputs": [
    {
     "data": {
      "image/png": "[encoded data removed]",
      "text/plain": [
       "<Figure size 432x288 with 2 Axes>"
      ]
     },
     "metadata": {
      "needs_background": "light"
     },
     "output_type": "display_data"
    }
   ],
   "source": [
    "# creating a confusion matrix: rbf kernel\n",
    "# Define class labels\n",
    "class_names = iris.target_names\n",
    "cm_rbf = confusion_matrix(y_test, rbf_pred)\n",
    "disp_rbf = ConfusionMatrixDisplay(confusion_matrix=cm_rbf,display_labels=class_names)\n",
    "# Plot confusion matrix\n",
    "disp_rbf.plot()\n",
    "\n",
    "# Show the plot\n",
    "plt.show()"
   ]
  },
  {
   "cell_type": "markdown",
   "metadata": {
    "id": "5WwQ4qczZF3O"
   },
   "source": [
    "# **Logistic Regression**\n",
    "\n"
   ]
  },
  {
   "cell_type": "code",
   "execution_count": 12,
   "metadata": {
    "id": "_Nkx73GCZFgk"
   },
   "outputs": [],
   "source": [
    "from sklearn.linear_model import LogisticRegression"
   ]
  },
  {
   "cell_type": "code",
   "execution_count": 13,
   "metadata": {
    "colab": {
     "base_uri": "https://localhost:8080/",
     "height": 0
    },
    "id": "DSHasUyZZnOH",
    "outputId": "4aa50667-b79b-4b2e-f093-a35383531da3"
   },
   "outputs": [
    {
     "name": "stdout",
     "output_type": "stream",
     "text": [
      "Logistic Regression Classifier Score :  73.33\n"
     ]
    }
   ],
   "source": [
    "classifier = None\n",
    "classifier_score = 0\n",
    "classifier = LogisticRegression(penalty='l2',random_state=0,multi_class='auto')\n",
    "classifier.fit(X_train,y_train)\n",
    "classifier_score = classifier.score(X_test, y_test)\n",
    "\n",
    "print('Logistic Regression Classifier Score : ', \"%.2f\" % (classifier_score*100))"
   ]
  },
  {
   "cell_type": "code",
   "execution_count": null,
   "metadata": {},
   "outputs": [],
   "source": []
  }
 ],
 "metadata": {
  "colab": {
   "provenance": []
  },
  "kernelspec": {
   "display_name": "Python 3",
   "language": "python",
   "name": "python3"
  },
  "language_info": {
   "codemirror_mode": {
    "name": "ipython",
    "version": 3
   },
   "file_extension": ".py",
   "mimetype": "text/x-python",
   "name": "python",
   "nbconvert_exporter": "python",
   "pygments_lexer": "ipython3",
   "version": "3.8.8"
  }
 },
 "nbformat": 4,
 "nbformat_minor": 4
}
